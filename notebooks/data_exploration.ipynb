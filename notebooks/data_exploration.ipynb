{
  "cells": [
    {
      "cell_type": "code",
      "execution_count": 3,
      "metadata": {
        "id": "_KTlZ4TFw4sA"
      },
      "outputs": [],
      "source": [
        "import numpy as np\n",
        "import pandas as pd"
      ]
    },
    {
      "cell_type": "code",
      "execution_count": 4,
      "metadata": {
        "id": "alTCKtYhw5-G"
      },
      "outputs": [],
      "source": [
        "dataset = pd.read_csv(\"../data/training_data.csv\")\n",
        "dataset = pd.DataFrame(dataset)"
      ]
    },
    {
      "cell_type": "code",
      "execution_count": 5,
      "metadata": {
        "id": "qb2S6OUr2_z6"
      },
      "outputs": [
        {
          "name": "stdout",
          "output_type": "stream",
          "text": [
            "step              0\n",
            "type              0\n",
            "amount            0\n",
            "nameOrig          1\n",
            "oldbalanceOrg     1\n",
            "newbalanceOrig    1\n",
            "nameDest          1\n",
            "oldbalanceDest    1\n",
            "newbalanceDest    1\n",
            "isFraud           1\n",
            "isFlaggedFraud    1\n",
            "dtype: int64\n",
            "---\n",
            "0\n"
          ]
        }
      ],
      "source": [
        "dataset.columns = dataset.columns.str.strip()  # Removes leading and trailing spaces\n",
        "print(dataset.isnull().sum()) # Check for missing values\n",
        "print(\"---\")\n",
        "print(dataset.duplicated().sum()) # Check for duplicate values\n"
      ]
    },
    {
      "cell_type": "code",
      "execution_count": 6,
      "metadata": {
        "id": "UqRLKgyH1OdA"
      },
      "outputs": [],
      "source": [
        "dataset.dropna(inplace=True)\n",
        "dataset.drop_duplicates(inplace=True)"
      ]
    },
    {
      "cell_type": "code",
      "execution_count": 7,
      "metadata": {},
      "outputs": [
        {
          "data": {
            "text/html": [
              "<div>\n",
              "<style scoped>\n",
              "    .dataframe tbody tr th:only-of-type {\n",
              "        vertical-align: middle;\n",
              "    }\n",
              "\n",
              "    .dataframe tbody tr th {\n",
              "        vertical-align: top;\n",
              "    }\n",
              "\n",
              "    .dataframe thead th {\n",
              "        text-align: right;\n",
              "    }\n",
              "</style>\n",
              "<table border=\"1\" class=\"dataframe\">\n",
              "  <thead>\n",
              "    <tr style=\"text-align: right;\">\n",
              "      <th></th>\n",
              "      <th>type</th>\n",
              "      <th>amount</th>\n",
              "      <th>oldbalanceOrg</th>\n",
              "      <th>newbalanceOrig</th>\n",
              "      <th>oldbalanceDest</th>\n",
              "      <th>newbalanceDest</th>\n",
              "      <th>isFraud</th>\n",
              "    </tr>\n",
              "  </thead>\n",
              "  <tbody>\n",
              "    <tr>\n",
              "      <th>0</th>\n",
              "      <td>CASH_IN</td>\n",
              "      <td>386385.08</td>\n",
              "      <td>4669568.85</td>\n",
              "      <td>5055953.92</td>\n",
              "      <td>506035.06</td>\n",
              "      <td>119649.98</td>\n",
              "      <td>0.0</td>\n",
              "    </tr>\n",
              "    <tr>\n",
              "      <th>1</th>\n",
              "      <td>CASH_IN</td>\n",
              "      <td>212458.78</td>\n",
              "      <td>234635.00</td>\n",
              "      <td>447093.78</td>\n",
              "      <td>806037.88</td>\n",
              "      <td>593579.10</td>\n",
              "      <td>0.0</td>\n",
              "    </tr>\n",
              "    <tr>\n",
              "      <th>2</th>\n",
              "      <td>PAYMENT</td>\n",
              "      <td>19967.60</td>\n",
              "      <td>3634.00</td>\n",
              "      <td>0.00</td>\n",
              "      <td>0.00</td>\n",
              "      <td>0.00</td>\n",
              "      <td>0.0</td>\n",
              "    </tr>\n",
              "    <tr>\n",
              "      <th>3</th>\n",
              "      <td>CASH_OUT</td>\n",
              "      <td>527616.51</td>\n",
              "      <td>180216.00</td>\n",
              "      <td>0.00</td>\n",
              "      <td>92157.10</td>\n",
              "      <td>619773.61</td>\n",
              "      <td>0.0</td>\n",
              "    </tr>\n",
              "    <tr>\n",
              "      <th>4</th>\n",
              "      <td>TRANSFER</td>\n",
              "      <td>206067.85</td>\n",
              "      <td>0.00</td>\n",
              "      <td>0.00</td>\n",
              "      <td>2131494.48</td>\n",
              "      <td>2337562.32</td>\n",
              "      <td>0.0</td>\n",
              "    </tr>\n",
              "    <tr>\n",
              "      <th>...</th>\n",
              "      <td>...</td>\n",
              "      <td>...</td>\n",
              "      <td>...</td>\n",
              "      <td>...</td>\n",
              "      <td>...</td>\n",
              "      <td>...</td>\n",
              "      <td>...</td>\n",
              "    </tr>\n",
              "    <tr>\n",
              "      <th>143920</th>\n",
              "      <td>CASH_OUT</td>\n",
              "      <td>37377.47</td>\n",
              "      <td>26397.78</td>\n",
              "      <td>0.00</td>\n",
              "      <td>753020.04</td>\n",
              "      <td>790397.50</td>\n",
              "      <td>0.0</td>\n",
              "    </tr>\n",
              "    <tr>\n",
              "      <th>143921</th>\n",
              "      <td>CASH_IN</td>\n",
              "      <td>184782.46</td>\n",
              "      <td>1512205.59</td>\n",
              "      <td>1696988.05</td>\n",
              "      <td>293982.59</td>\n",
              "      <td>109200.13</td>\n",
              "      <td>0.0</td>\n",
              "    </tr>\n",
              "    <tr>\n",
              "      <th>143922</th>\n",
              "      <td>PAYMENT</td>\n",
              "      <td>31391.33</td>\n",
              "      <td>31152.00</td>\n",
              "      <td>0.00</td>\n",
              "      <td>0.00</td>\n",
              "      <td>0.00</td>\n",
              "      <td>0.0</td>\n",
              "    </tr>\n",
              "    <tr>\n",
              "      <th>143923</th>\n",
              "      <td>CASH_IN</td>\n",
              "      <td>255521.98</td>\n",
              "      <td>1237508.67</td>\n",
              "      <td>1493030.65</td>\n",
              "      <td>768396.97</td>\n",
              "      <td>512874.99</td>\n",
              "      <td>0.0</td>\n",
              "    </tr>\n",
              "    <tr>\n",
              "      <th>143924</th>\n",
              "      <td>CASH_OUT</td>\n",
              "      <td>78284.35</td>\n",
              "      <td>31562.00</td>\n",
              "      <td>0.00</td>\n",
              "      <td>2324888.80</td>\n",
              "      <td>2420233.51</td>\n",
              "      <td>0.0</td>\n",
              "    </tr>\n",
              "  </tbody>\n",
              "</table>\n",
              "<p>143925 rows × 7 columns</p>\n",
              "</div>"
            ],
            "text/plain": [
              "            type     amount  oldbalanceOrg  newbalanceOrig  oldbalanceDest  \\\n",
              "0        CASH_IN  386385.08     4669568.85      5055953.92       506035.06   \n",
              "1        CASH_IN  212458.78      234635.00       447093.78       806037.88   \n",
              "2        PAYMENT   19967.60        3634.00            0.00            0.00   \n",
              "3       CASH_OUT  527616.51      180216.00            0.00        92157.10   \n",
              "4       TRANSFER  206067.85           0.00            0.00      2131494.48   \n",
              "...          ...        ...            ...             ...             ...   \n",
              "143920  CASH_OUT   37377.47       26397.78            0.00       753020.04   \n",
              "143921   CASH_IN  184782.46     1512205.59      1696988.05       293982.59   \n",
              "143922   PAYMENT   31391.33       31152.00            0.00            0.00   \n",
              "143923   CASH_IN  255521.98     1237508.67      1493030.65       768396.97   \n",
              "143924  CASH_OUT   78284.35       31562.00            0.00      2324888.80   \n",
              "\n",
              "        newbalanceDest  isFraud  \n",
              "0            119649.98      0.0  \n",
              "1            593579.10      0.0  \n",
              "2                 0.00      0.0  \n",
              "3            619773.61      0.0  \n",
              "4           2337562.32      0.0  \n",
              "...                ...      ...  \n",
              "143920       790397.50      0.0  \n",
              "143921       109200.13      0.0  \n",
              "143922            0.00      0.0  \n",
              "143923       512874.99      0.0  \n",
              "143924      2420233.51      0.0  \n",
              "\n",
              "[143925 rows x 7 columns]"
            ]
          },
          "execution_count": 7,
          "metadata": {},
          "output_type": "execute_result"
        }
      ],
      "source": [
        "dataset = dataset[['type', 'amount','oldbalanceOrg','newbalanceOrig','oldbalanceDest','newbalanceDest','isFraud']] \n",
        "dataset"
      ]
    },
    {
      "cell_type": "code",
      "execution_count": 8,
      "metadata": {
        "id": "-omWISIT5tuY"
      },
      "outputs": [
        {
          "data": {
            "text/plain": [
              "'\\nimport seaborn as sns\\nimport matplotlib.pyplot as plt\\nimport pandas as pd\\n\\n# Assuming your dataset is already loaded, e.g.:\\n# dataset = pd.read_csv(\"your_file.csv\")\\n\\n# Select independent features and dependent target\\nX = dataset[[\\'amount\\',\\'oldbalanceOrg\\',\\'newbalanceOrig\\',\\'oldbalanceDest\\',\\'newbalanceDest\\']] # Features\\nY = dataset[\\'isFraud\\'] # Target\\n\\n# Create a new DataFrame that includes both X and Y for plotting\\ndata_with_target = X.copy()  # Copy X to avoid modifying it directly\\ndata_with_target[\\'isFraud\\'] = Y  # Add the target \\'isFraud\\' to the DataFrame\\n\\n# Plot pairwise scatter plots for each feature in X against Y\\nfor col in X.columns:\\n    plt.figure(figsize=(6, 4))\\n    sns.scatterplot(x=col, y=\\'isFraud\\', data=data_with_target)\\n    plt.title(f\\'Scatter plot of {col} vs isFraud\\')\\n    plt.show()\\n'"
            ]
          },
          "execution_count": 8,
          "metadata": {},
          "output_type": "execute_result"
        }
      ],
      "source": [
        "'''\n",
        "import seaborn as sns\n",
        "import matplotlib.pyplot as plt\n",
        "import pandas as pd\n",
        "\n",
        "# Assuming your dataset is already loaded, e.g.:\n",
        "# dataset = pd.read_csv(\"your_file.csv\")\n",
        "\n",
        "# Select independent features and dependent target\n",
        "X = dataset[['amount','oldbalanceOrg','newbalanceOrig','oldbalanceDest','newbalanceDest']] # Features\n",
        "Y = dataset['isFraud'] # Target\n",
        "\n",
        "# Create a new DataFrame that includes both X and Y for plotting\n",
        "data_with_target = X.copy()  # Copy X to avoid modifying it directly\n",
        "data_with_target['isFraud'] = Y  # Add the target 'isFraud' to the DataFrame\n",
        "\n",
        "# Plot pairwise scatter plots for each feature in X against Y\n",
        "for col in X.columns:\n",
        "    plt.figure(figsize=(6, 4))\n",
        "    sns.scatterplot(x=col, y='isFraud', data=data_with_target)\n",
        "    plt.title(f'Scatter plot of {col} vs isFraud')\n",
        "    plt.show()\n",
        "'''"
      ]
    },
    {
      "cell_type": "code",
      "execution_count": 9,
      "metadata": {
        "id": "W8gCI5jz4P8k"
      },
      "outputs": [],
      "source": [
        "X = dataset[['type', 'amount','oldbalanceOrg','newbalanceOrig','oldbalanceDest','newbalanceDest']] # Features (independent)\n",
        "Y = dataset['isFraud'] # Target (dependent)\n",
        "X = pd.DataFrame(X)\n",
        "Y = pd.DataFrame(Y)"
      ]
    },
    {
      "cell_type": "code",
      "execution_count": 10,
      "metadata": {},
      "outputs": [
        {
          "name": "stdout",
          "output_type": "stream",
          "text": [
            "Index(['type', 'amount', 'oldbalanceOrg', 'newbalanceOrig', 'oldbalanceDest',\n",
            "       'newbalanceDest'],\n",
            "      dtype='object')\n",
            "{'CASH_OUT': 50733, 'PAYMENT': 48683, 'CASH_IN': 31397, 'TRANSFER': 12154, 'DEBIT': 958}\n",
            "[0.00000000e+00 3.00000000e-02 8.70000000e-01 ... 3.77966840e+07\n",
            " 3.87717970e+07 4.92039836e+07]\n"
          ]
        }
      ],
      "source": [
        "print(X.columns)\n",
        "print(X[X.columns[0]].value_counts().to_dict())\n",
        "print(np.unique(X[X.columns[1]]))"
      ]
    },
    {
      "cell_type": "code",
      "execution_count": 11,
      "metadata": {},
      "outputs": [
        {
          "name": "stdout",
          "output_type": "stream",
          "text": [
            "[0. 1.]\n",
            "{(0.0,): 143733, (1.0,): 192}\n",
            "2\n",
            "True\n"
          ]
        }
      ],
      "source": [
        "target_dict = Y.value_counts().to_dict()\n",
        "n_labels = len(target_dict)\n",
        "print(np.unique(Y))\n",
        "print(target_dict)\n",
        "print(n_labels)\n",
        "print(type(Y)==pd.DataFrame)"
      ]
    },
    {
      "cell_type": "code",
      "execution_count": 12,
      "metadata": {
        "colab": {
          "base_uri": "https://localhost:8080/"
        },
        "id": "zNlpnuNJ40NY",
        "outputId": "a5880715-8da6-4a88-e5f1-1af8412f4b3f"
      },
      "outputs": [
        {
          "name": "stdout",
          "output_type": "stream",
          "text": [
            "(143925, 6)\n",
            "(143925, 1)\n"
          ]
        }
      ],
      "source": [
        "print(X.shape)\n",
        "print(Y.shape)"
      ]
    },
    {
      "cell_type": "code",
      "execution_count": 13,
      "metadata": {},
      "outputs": [
        {
          "data": {
            "text/html": [
              "<div>\n",
              "<style scoped>\n",
              "    .dataframe tbody tr th:only-of-type {\n",
              "        vertical-align: middle;\n",
              "    }\n",
              "\n",
              "    .dataframe tbody tr th {\n",
              "        vertical-align: top;\n",
              "    }\n",
              "\n",
              "    .dataframe thead th {\n",
              "        text-align: right;\n",
              "    }\n",
              "</style>\n",
              "<table border=\"1\" class=\"dataframe\">\n",
              "  <thead>\n",
              "    <tr style=\"text-align: right;\">\n",
              "      <th></th>\n",
              "      <th>type</th>\n",
              "      <th>amount</th>\n",
              "      <th>oldbalanceOrg</th>\n",
              "      <th>newbalanceOrig</th>\n",
              "      <th>oldbalanceDest</th>\n",
              "      <th>newbalanceDest</th>\n",
              "    </tr>\n",
              "  </thead>\n",
              "  <tbody>\n",
              "    <tr>\n",
              "      <th>1</th>\n",
              "      <td>CASH_IN</td>\n",
              "      <td>212458.78</td>\n",
              "      <td>234635.0</td>\n",
              "      <td>447093.78</td>\n",
              "      <td>806037.88</td>\n",
              "      <td>593579.1</td>\n",
              "    </tr>\n",
              "    <tr>\n",
              "      <th>2</th>\n",
              "      <td>PAYMENT</td>\n",
              "      <td>19967.60</td>\n",
              "      <td>3634.0</td>\n",
              "      <td>0.00</td>\n",
              "      <td>0.00</td>\n",
              "      <td>0.0</td>\n",
              "    </tr>\n",
              "  </tbody>\n",
              "</table>\n",
              "</div>"
            ],
            "text/plain": [
              "      type     amount  oldbalanceOrg  newbalanceOrig  oldbalanceDest  \\\n",
              "1  CASH_IN  212458.78       234635.0       447093.78       806037.88   \n",
              "2  PAYMENT   19967.60         3634.0            0.00            0.00   \n",
              "\n",
              "   newbalanceDest  \n",
              "1        593579.1  \n",
              "2             0.0  "
            ]
          },
          "execution_count": 13,
          "metadata": {},
          "output_type": "execute_result"
        }
      ],
      "source": [
        "X.iloc[1:3]\n"
      ]
    },
    {
      "cell_type": "code",
      "execution_count": 14,
      "metadata": {},
      "outputs": [
        {
          "name": "stdout",
          "output_type": "stream",
          "text": [
            "CASH_OUT --> 50733\n",
            "PAYMENT --> 48683\n",
            "CASH_IN --> 31397\n",
            "TRANSFER --> 12154\n",
            "DEBIT --> 958\n"
          ]
        },
        {
          "data": {
            "text/plain": [
              "5"
            ]
          },
          "execution_count": 14,
          "metadata": {},
          "output_type": "execute_result"
        }
      ],
      "source": [
        "# Making dictionary of each value in column and how many times it occurs\n",
        "dict = dataset['type'].value_counts().to_dict()\n",
        "for k,v in dict.items():\n",
        "    print(k,\"-->\",v)\n",
        "\n",
        "len(dict)"
      ]
    },
    {
      "cell_type": "code",
      "execution_count": 16,
      "metadata": {},
      "outputs": [
        {
          "data": {
            "text/plain": [
              "\" Entropy (Wrong)\\ndef entropy(col,dataset):\\n    subset_fraud = dataset[dataset['isFraud']==1.0] # Taking only the rows with isFraud=1\\n    col_len = len(subset_fraud) # Length of the column\\n    dict_fraud = subset_fraud[col].value_counts().to_dict() # Making dict of each unique val and no. of occurences in subset \\n\\n    ent=0 # Initialize entropy\\n\\n    for k,v in dict_fraud.items():\\n        p = v/col_len # Probability of occurence of value in entire column\\n        ent -= p* np.log2(p)\\n\\n    subset_nfraud = dataset[dataset['isFraud']==0.0] # Taking only the rows with isFraud=0\\n    col_len = len(subset_nfraud) # Length of the column\\n    dict_nfraud = subset_fraud[col].value_counts().to_dict() # Making dict of each unique val and no. of occurences in subset \\n\\n    for k,v in dict_nfraud.items():\\n        p = v/col_len # Probability of occurence of value in entire column\\n        ent -= p* np.log2(p)\\n\\n\\n    return ent\\n    \\nentropy('isFraud',dataset)\\n\""
            ]
          },
          "execution_count": 16,
          "metadata": {},
          "output_type": "execute_result"
        }
      ],
      "source": [
        "''' Entropy (Wrong)\n",
        "def entropy(col,dataset):\n",
        "    subset_fraud = dataset[dataset['isFraud']==1.0] # Taking only the rows with isFraud=1\n",
        "    col_len = len(subset_fraud) # Length of the column\n",
        "    dict_fraud = subset_fraud[col].value_counts().to_dict() # Making dict of each unique val and no. of occurences in subset \n",
        "\n",
        "    ent=0 # Initialize entropy\n",
        "\n",
        "    for k,v in dict_fraud.items():\n",
        "        p = v/col_len # Probability of occurence of value in entire column\n",
        "        ent -= p* np.log2(p)\n",
        "\n",
        "    subset_nfraud = dataset[dataset['isFraud']==0.0] # Taking only the rows with isFraud=0\n",
        "    col_len = len(subset_nfraud) # Length of the column\n",
        "    dict_nfraud = subset_fraud[col].value_counts().to_dict() # Making dict of each unique val and no. of occurences in subset \n",
        "\n",
        "    for k,v in dict_nfraud.items():\n",
        "        p = v/col_len # Probability of occurence of value in entire column\n",
        "        ent -= p* np.log2(p)\n",
        "\n",
        "\n",
        "    return ent\n",
        "    \n",
        "entropy('isFraud',dataset)\n",
        "'''"
      ]
    },
    {
      "cell_type": "code",
      "execution_count": 17,
      "metadata": {},
      "outputs": [
        {
          "data": {
            "text/plain": [
              "\"Entropy Calculation for a column\\n\\ndef entropy_column(col,target):\\n    att_dict = dataset[col].value_counts().to_dict() # Make dictionary of unique attribute and no. of occurences\\n    ent = 0\\n    for k,v in att_dict.items(): # For each unique value\\n        subset = dataset[dataset[col]==k] # Make subset based on unique attribute k\\n        length = v # Length of subset = no. of occureneces\\n\\n        target_dict = subset[target].value_counts().to_dict()\\n        for i,j in target_dict.items():\\n            p = j/length # Occurences of 1s/0s divided by len of column\\n            ent -= p * np.log2(p)\\n\\n    return ent\\n\\nentropy_column('isFraud','isFraud')       \\n\\n\""
            ]
          },
          "execution_count": 17,
          "metadata": {},
          "output_type": "execute_result"
        }
      ],
      "source": [
        "'''Entropy Calculation for a column\n",
        "\n",
        "def entropy_column(col,target):\n",
        "    att_dict = dataset[col].value_counts().to_dict() # Make dictionary of unique attribute and no. of occurences\n",
        "    ent = 0\n",
        "    for k,v in att_dict.items(): # For each unique value\n",
        "        subset = dataset[dataset[col]==k] # Make subset based on unique attribute k\n",
        "        length = v # Length of subset = no. of occureneces\n",
        "\n",
        "        target_dict = subset[target].value_counts().to_dict()\n",
        "        for i,j in target_dict.items():\n",
        "            p = j/length # Occurences of 1s/0s divided by len of column\n",
        "            ent -= p * np.log2(p)\n",
        "\n",
        "    return ent\n",
        "\n",
        "entropy_column('isFraud','isFraud')       \n",
        "\n",
        "'''"
      ]
    },
    {
      "cell_type": "code",
      "execution_count": 18,
      "metadata": {},
      "outputs": [
        {
          "data": {
            "text/plain": [
              "{0: array(['CASH_IN', 'CASH_OUT', 'DEBIT', 'PAYMENT', 'TRANSFER'],\n",
              "       dtype=object),\n",
              " 1: array([0.00000000e+00, 3.00000000e-02, 8.70000000e-01, ...,\n",
              "        3.77966840e+07, 3.87717970e+07, 4.92039836e+07]),\n",
              " 2: array([0.00000000e+00, 1.00000000e+00, 2.00000000e+00, ...,\n",
              "        3.38298204e+07, 3.43357151e+07, 3.44006513e+07]),\n",
              " 3: array([0.00000000e+00, 1.76000000e+00, 5.40000000e+00, ...,\n",
              "        3.38313591e+07, 3.44020062e+07, 3.44519209e+07]),\n",
              " 4: array([0.00000000e+00, 1.90000000e+01, 2.30000000e+01, ...,\n",
              "        1.45469306e+08, 1.71939084e+08, 1.92278926e+08]),\n",
              " 5: array([0.00000000e+00, 2.40500000e+01, 6.13900000e+01, ...,\n",
              "        1.45494143e+08, 1.71996480e+08, 1.92307118e+08])}"
            ]
          },
          "execution_count": 18,
          "metadata": {},
          "output_type": "execute_result"
        }
      ],
      "source": [
        "# Find column indices and all potential splits at said indies\n",
        "def potential_splits(data):\n",
        "    splits = {}\n",
        "    n_col = data.shape[1]\n",
        "    for i in range(n_col):\n",
        "        splits[i]= np.unique(data[data.columns[i]])\n",
        "    \n",
        "    return splits\n",
        "\n",
        "potential_splits(X)"
      ]
    },
    {
      "cell_type": "code",
      "execution_count": 19,
      "metadata": {},
      "outputs": [
        {
          "name": "stdout",
          "output_type": "stream",
          "text": [
            "0         386385.08\n",
            "1         212458.78\n",
            "2          19967.60\n",
            "3         527616.51\n",
            "4         206067.85\n",
            "            ...    \n",
            "143920     37377.47\n",
            "143921    184782.46\n",
            "143922     31391.33\n",
            "143923    255521.98\n",
            "143924     78284.35\n",
            "Name: amount, Length: 143925, dtype: float64\n",
            "[105307 115449]\n",
            "---\n",
            "[     0      1      2 ... 143922 143923 143924]\n"
          ]
        }
      ],
      "source": [
        "def split_indices(x_col,att):\n",
        "    left_id = np.argwhere(x_col<= att).flatten()\n",
        "    right_id = np.argwhere(x_col > att).flatten()\n",
        "\n",
        "    return left_id,right_id\n",
        "\n",
        "left_s,right_s = split_indices(X[X.columns[1]],3.00000000e-02 )\n",
        "\n",
        "print(X[X.columns[1]])\n",
        "print(left_s)\n",
        "print(\"---\")\n",
        "print(right_s)"
      ]
    },
    {
      "cell_type": "code",
      "execution_count": 20,
      "metadata": {},
      "outputs": [
        {
          "name": "stdout",
          "output_type": "stream",
          "text": [
            "0          True\n",
            "1          True\n",
            "2         False\n",
            "3          True\n",
            "4          True\n",
            "          ...  \n",
            "143920    False\n",
            "143921    False\n",
            "143922    False\n",
            "143923     True\n",
            "143924    False\n",
            "Name: amount, Length: 143925, dtype: bool\n",
            "            type     amount  oldbalanceOrg  newbalanceOrig  oldbalanceDest  \\\n",
            "0        CASH_IN  386385.08     4669568.85      5055953.92       506035.06   \n",
            "1        CASH_IN  212458.78      234635.00       447093.78       806037.88   \n",
            "3       CASH_OUT  527616.51      180216.00            0.00        92157.10   \n",
            "4       TRANSFER  206067.85           0.00            0.00      2131494.48   \n",
            "9        CASH_IN  284341.53     8133378.48      8417720.01      5702766.00   \n",
            "...          ...        ...            ...             ...             ...   \n",
            "143903  CASH_OUT  381436.31           0.00            0.00       423565.96   \n",
            "143910   CASH_IN  253381.28       14703.00       268084.28            0.00   \n",
            "143913   CASH_IN  227101.50     1267870.75      1494972.24       808471.77   \n",
            "143916  TRANSFER  597971.62        2882.63            0.00      1297850.88   \n",
            "143923   CASH_IN  255521.98     1237508.67      1493030.65       768396.97   \n",
            "\n",
            "        newbalanceDest  \n",
            "0            119649.98  \n",
            "1            593579.10  \n",
            "3            619773.61  \n",
            "4           2337562.32  \n",
            "9           5418424.47  \n",
            "...                ...  \n",
            "143903       805002.26  \n",
            "143910            0.00  \n",
            "143913       581370.27  \n",
            "143916      1895822.50  \n",
            "143923       512874.99  \n",
            "\n",
            "[37873 rows x 6 columns]\n",
            "            type     amount  oldbalanceOrg  newbalanceOrig  oldbalanceDest  \\\n",
            "2        PAYMENT   19967.60        3634.00            0.00            0.00   \n",
            "5        PAYMENT     141.42         174.00           32.58            0.00   \n",
            "6       CASH_OUT   15241.42       45285.00        30043.58       355775.87   \n",
            "7        PAYMENT    5292.90         257.00            0.00            0.00   \n",
            "8        CASH_IN   97648.62     2936326.20      3033974.82      1640348.29   \n",
            "...          ...        ...            ...             ...             ...   \n",
            "143919   PAYMENT   12651.80           0.00            0.00            0.00   \n",
            "143920  CASH_OUT   37377.47       26397.78            0.00       753020.04   \n",
            "143921   CASH_IN  184782.46     1512205.59      1696988.05       293982.59   \n",
            "143922   PAYMENT   31391.33       31152.00            0.00            0.00   \n",
            "143924  CASH_OUT   78284.35       31562.00            0.00      2324888.80   \n",
            "\n",
            "        newbalanceDest  \n",
            "2                 0.00  \n",
            "5                 0.00  \n",
            "6            652863.91  \n",
            "7                 0.00  \n",
            "8           1542699.67  \n",
            "...                ...  \n",
            "143919            0.00  \n",
            "143920       790397.50  \n",
            "143921       109200.13  \n",
            "143922            0.00  \n",
            "143924      2420233.51  \n",
            "\n",
            "[106052 rows x 6 columns]\n"
          ]
        }
      ],
      "source": [
        "print(X['amount']>200000)\n",
        "left = X[(X['amount']>200000)==True]\n",
        "right = X[(X['amount']>200000)==False]\n",
        "print(left)\n",
        "print(right)"
      ]
    },
    {
      "cell_type": "code",
      "execution_count": 21,
      "metadata": {},
      "outputs": [],
      "source": [
        "# Split at a column depending on the value of attributes in the column\n",
        "def split_data(data, split_col, split_val):\n",
        "    left_data = data[(data[split_col]>split_val)==False]\n",
        "    right_data = data[(data[split_col]>split_val)==True]  \n",
        "\n",
        "    return left_data, right_data"
      ]
    },
    {
      "cell_type": "code",
      "execution_count": 15,
      "metadata": {},
      "outputs": [
        {
          "name": "stdout",
          "output_type": "stream",
          "text": [
            "0.0 --> 143733\n",
            "1.0 --> 192\n"
          ]
        },
        {
          "data": {
            "text/html": [
              "<div>\n",
              "<style scoped>\n",
              "    .dataframe tbody tr th:only-of-type {\n",
              "        vertical-align: middle;\n",
              "    }\n",
              "\n",
              "    .dataframe tbody tr th {\n",
              "        vertical-align: top;\n",
              "    }\n",
              "\n",
              "    .dataframe thead th {\n",
              "        text-align: right;\n",
              "    }\n",
              "</style>\n",
              "<table border=\"1\" class=\"dataframe\">\n",
              "  <thead>\n",
              "    <tr style=\"text-align: right;\">\n",
              "      <th></th>\n",
              "      <th>type</th>\n",
              "      <th>amount</th>\n",
              "      <th>oldbalanceOrg</th>\n",
              "      <th>newbalanceOrig</th>\n",
              "      <th>oldbalanceDest</th>\n",
              "      <th>newbalanceDest</th>\n",
              "      <th>isFraud</th>\n",
              "    </tr>\n",
              "  </thead>\n",
              "  <tbody>\n",
              "    <tr>\n",
              "      <th>550</th>\n",
              "      <td>TRANSFER</td>\n",
              "      <td>1735466.52</td>\n",
              "      <td>1735466.52</td>\n",
              "      <td>0.00</td>\n",
              "      <td>0.00</td>\n",
              "      <td>0.00</td>\n",
              "      <td>1.0</td>\n",
              "    </tr>\n",
              "    <tr>\n",
              "      <th>636</th>\n",
              "      <td>TRANSFER</td>\n",
              "      <td>316877.85</td>\n",
              "      <td>316877.85</td>\n",
              "      <td>0.00</td>\n",
              "      <td>0.00</td>\n",
              "      <td>0.00</td>\n",
              "      <td>1.0</td>\n",
              "    </tr>\n",
              "    <tr>\n",
              "      <th>864</th>\n",
              "      <td>CASH_OUT</td>\n",
              "      <td>78810.30</td>\n",
              "      <td>78810.30</td>\n",
              "      <td>0.00</td>\n",
              "      <td>802788.52</td>\n",
              "      <td>881598.82</td>\n",
              "      <td>1.0</td>\n",
              "    </tr>\n",
              "    <tr>\n",
              "      <th>870</th>\n",
              "      <td>CASH_OUT</td>\n",
              "      <td>513082.74</td>\n",
              "      <td>513082.74</td>\n",
              "      <td>0.00</td>\n",
              "      <td>32452.79</td>\n",
              "      <td>545535.53</td>\n",
              "      <td>1.0</td>\n",
              "    </tr>\n",
              "    <tr>\n",
              "      <th>1472</th>\n",
              "      <td>TRANSFER</td>\n",
              "      <td>2542664.27</td>\n",
              "      <td>2542664.27</td>\n",
              "      <td>2542664.27</td>\n",
              "      <td>0.00</td>\n",
              "      <td>0.00</td>\n",
              "      <td>1.0</td>\n",
              "    </tr>\n",
              "  </tbody>\n",
              "</table>\n",
              "</div>"
            ],
            "text/plain": [
              "          type      amount  oldbalanceOrg  newbalanceOrig  oldbalanceDest  \\\n",
              "550   TRANSFER  1735466.52     1735466.52            0.00            0.00   \n",
              "636   TRANSFER   316877.85      316877.85            0.00            0.00   \n",
              "864   CASH_OUT    78810.30       78810.30            0.00       802788.52   \n",
              "870   CASH_OUT   513082.74      513082.74            0.00        32452.79   \n",
              "1472  TRANSFER  2542664.27     2542664.27      2542664.27            0.00   \n",
              "\n",
              "      newbalanceDest  isFraud  \n",
              "550             0.00      1.0  \n",
              "636             0.00      1.0  \n",
              "864        881598.82      1.0  \n",
              "870        545535.53      1.0  \n",
              "1472            0.00      1.0  "
            ]
          },
          "execution_count": 15,
          "metadata": {},
          "output_type": "execute_result"
        }
      ],
      "source": [
        "# Subsetting dataset\n",
        "dict = dataset['isFraud'].value_counts().to_dict()\n",
        "for k,v in dict.items():\n",
        "    print(k,\"-->\",v)\n",
        "\n",
        "subset= dataset[dataset['isFraud']==1.0]\n",
        "subset.head()"
      ]
    },
    {
      "cell_type": "code",
      "execution_count": 48,
      "metadata": {},
      "outputs": [
        {
          "name": "stdout",
          "output_type": "stream",
          "text": [
            "143925\n"
          ]
        }
      ],
      "source": [
        "# Get probabilities faster\n",
        "target = dataset[dataset.columns[-1]]\n",
        "counts = []\n",
        "dict = target.value_counts().to_dict()\n",
        "for k,v in dict.items():\n",
        "    counts.append(v)\n",
        "counts = np.array(counts) # Allows element-wise operations\n",
        "print(counts.sum())"
      ]
    },
    {
      "cell_type": "code",
      "execution_count": 50,
      "metadata": {},
      "outputs": [
        {
          "data": {
            "text/plain": [
              "np.float64(0.014663273789461197)"
            ]
          },
          "execution_count": 50,
          "metadata": {},
          "output_type": "execute_result"
        }
      ],
      "source": [
        "# NEW calculate entropy \n",
        "\n",
        "def entropy(data): # Takes dataset instead of column\n",
        "    target_col = dataset[dataset.columns[-1]]  # Makes last column of dataset the target column\n",
        "    counts = []\n",
        "    target_dict = target.value_counts().to_dict()\n",
        "    for k,v in target_dict.items():\n",
        "        counts.append(v)\n",
        "    counts = np.array(counts)\n",
        "\n",
        "    p = counts / counts.sum() # Does calculation at once, so faster\n",
        "    ent = -np.sum(p * np.log2(p))\n",
        "\n",
        "    return ent\n",
        "\n",
        "ent_dataset(dataset)"
      ]
    },
    {
      "cell_type": "code",
      "execution_count": 52,
      "metadata": {},
      "outputs": [
        {
          "data": {
            "text/plain": [
              "np.float64(0.0)"
            ]
          },
          "execution_count": 52,
          "metadata": {},
          "output_type": "execute_result"
        }
      ],
      "source": [
        "# Entropy calculation for an attribute in a column\n",
        "def entropy_attribute(col,val,target):\n",
        "    subset = dataset[dataset[col]==val] # Make subset based on attribute \n",
        "    \n",
        "    ent = 0 # Initialize entropy value\n",
        "\n",
        "    target_dict = subset[target].value_counts().to_dict()\n",
        "    for k,v in target_dict.items():\n",
        "        p = v/len(subset) # Occurences of 1s/0s divided by len of column\n",
        "        ent -= p * np.log2(p) # Entropy of attribute\n",
        "\n",
        "    return ent\n",
        "\n",
        "entropy_attribute('isFraud',1.0,'isFraud')"
      ]
    },
    {
      "cell_type": "code",
      "execution_count": 51,
      "metadata": {},
      "outputs": [
        {
          "data": {
            "text/plain": [
              "np.float64(0.014663273789461197)"
            ]
          },
          "execution_count": 51,
          "metadata": {},
          "output_type": "execute_result"
        }
      ],
      "source": [
        "# Entropy of parent\n",
        "'''\n",
        "def entropy_dataset(target):\n",
        "    target_dict = dataset[target].value_counts().to_dict()\n",
        "    ent = 0\n",
        "    for k,v in target_dict.items():\n",
        "        p = v/len(dataset)\n",
        "        ent -= p * np.log2(p)\n",
        "    \n",
        "    return ent\n",
        "\n",
        "entropy_dataset('isFraud')\n",
        "'''"
      ]
    },
    {
      "cell_type": "code",
      "execution_count": null,
      "metadata": {},
      "outputs": [
        {
          "data": {
            "text/plain": [
              "\"\\ndef information_gain(col,target):\\n    len_data = len(dataset) # Length of dataset\\n    att_dict = dataset[col].value_counts().to_dict() # Make dictionary of unique attribute and no. of occurences\\n\\n    ent_data = entropy_dataset(target) # Calculate entropy of dataset\\n    ent_att = 0 # Initalize entropy of attributes of a column\\n\\n    for k,v in att_dict.items():\\n        p = v / len_data # No. of occurences of attributes / length of dataset\\n        ent_att -= p * entropy_attribute(col,k,target) # Sum of entropy of all attributes in a column\\n    \\n    info_gain = ent_data + ent_att # Calculate information gain\\n\\n    return info_gain\\n\\ninformation_gain('type','isFraud')\\n\""
            ]
          },
          "execution_count": 221,
          "metadata": {},
          "output_type": "execute_result"
        }
      ],
      "source": [
        "# Information Gain Calculation\n",
        "def information_gain(col,target):\n",
        "    len_data = len(dataset) # Length of dataset\n",
        "    att_dict = dataset[col].value_counts().to_dict() # Make dictionary of unique attribute and no. of occurences\n",
        "\n",
        "    ent_data = entropy_dataset(target) # Calculate entropy of dataset\n",
        "    ent_att = 0 # Initalize entropy of attributes of a column\n",
        "\n",
        "    for k,v in att_dict.items():\n",
        "        p = v / len_data # No. of occurences of attributes / length of dataset\n",
        "        ent_att -= p * entropy_attribute(col,k,target) # Sum of entropy of all attributes in a column\n",
        "    \n",
        "    info_gain = ent_data + ent_att # Calculate information gain\n",
        "\n",
        "    return info_gain\n",
        "\n",
        "information_gain('type','isFraud')\n"
      ]
    },
    {
      "cell_type": "code",
      "execution_count": null,
      "metadata": {},
      "outputs": [],
      "source": [
        "# Nodes\n",
        "class node:\n",
        "    def __init__(self, feature=None, threshold=None, left=None, right=None,*,value=None):\n",
        "        self.feature = feature # Column\n",
        "        self.threshold = threshold # Attribute in column\n",
        "        self.left = left # Left child\n",
        "        self.right = right # Right child\n",
        "        self.value = None # Label of node (for leaf node only)\n",
        "\n",
        "    def is_leaf(self): # Check if node is leaf node\n",
        "        if self.value != None:\n",
        "            return self.value"
      ]
    },
    {
      "cell_type": "code",
      "execution_count": null,
      "metadata": {},
      "outputs": [],
      "source": [
        "# Decision Tree\n",
        "class decision_tree:\n",
        "    def __init__(self, min_samples=5, max_depth=100, n_features=None):\n",
        "        self.min_samples = min_samples # Minimum number of samples at a node\n",
        "        self.max_depth = max_depth # Max height of tree\n",
        "        self.n_features = n_features # Number of feautures to use to make tree\n",
        "        self.root = None # Root node\n",
        "\n",
        "    def fit(self,x,y):\n",
        "        if self.n_features == None: # To ensure no. of features(columns) <= no. of actual features\n",
        "            self.n_features = x.shape[1]\n",
        "        else:\n",
        "            self.n_features = min(x.shape[1],self.n_features)\n",
        "\n",
        "        self.root = self.build_tree(x,y) # Build tree starting from root\n",
        "\n",
        "    depth = 0 # Initialize depth of tree\n",
        "\n",
        "    def build_tree(self,x,y,depth):\n",
        "        # Check if stopping criteria reached\n",
        "        # If not find the best split\n",
        "        # Create child nodes based on split condition\n",
        "\n",
        "        n_samples = x.shape[0] # No. of sample points = no. of rows\n",
        "        n_feats = x.shape[1] # No. of features = no. of columns\n",
        "        n_labels = len(np.unique(y)) # No. of unique labels\n",
        "\n",
        "        if depth>=self.max_depth or n_labels==1 or n_samples<self.min_samples: # Stopping criteria\n",
        "            leaf_label = self.majority_label(y) # Label of leaf should be the majority label in the node\n",
        "            return node(value=leaf_label) # Creates a leaf node and exits build_tree function\n",
        "\n",
        "        x_col = x.columns # Make list of feaures(columns) of X\n",
        "        feat_indices = np.random.choice(n_feats, self.n_features, replace =False) # Selecting random indices of features to be used\n",
        "        feat_list = [] # Make a list of features to be used\n",
        "        for i in feat_indices:\n",
        "            feat_list.append(x_col[i]) # Add features from X\n",
        "\n",
        "\n",
        "        best_feature, best_threshold = self.best_split(x,y,feat_list) # Finding the best feature and threshold to split at\n",
        "\n",
        "        \n",
        "\n",
        "    def best_split(self,x,y,feat_list):\n",
        "        best_gain = -1 # Initialize best information gain\n",
        "        split_feat, split_threshold = None, None\n",
        "\n",
        "        for i in feat_list: # For each column of X\n",
        "            x_dict = x[x.columns[i]].value_counts().to_dict() # Make dictionary out of attributes of column i of X\n",
        "            \n",
        "            for k,v in x_dict.items():\n",
        "                info_gain = information_gain(x.columns[i],y.columns[0])\n",
        "\n",
        "                if info_gain>best_gain:\n",
        "                    best_gain = info_gain # Update info gain\n",
        "                    split_feat = i # Make splitting feature = to current feature in feat_list \n",
        "                    split_threshold = k # Make splitting threshold = the attribute in column \n",
        "        \n",
        "        return split_feat, split_threshold\n",
        "            \n",
        "\n",
        "    def majority_label(self,y):\n",
        "        if type(y) != pd.DataFrame:\n",
        "            y = pd.DataFrame(y)\n",
        "        y_dict = y.value_counts().to_dict()\n",
        "\n",
        "        max_key,max_val = \"\",0\n",
        "        for k,v in y_dict.items():\n",
        "            if v>max_val:\n",
        "                max_key,max_val=k,v\n",
        "        return max_key\n",
        "        \n",
        "\n",
        "\n",
        "        \n"
      ]
    }
  ],
  "metadata": {
    "colab": {
      "provenance": []
    },
    "kernelspec": {
      "display_name": "Python 3",
      "name": "python3"
    },
    "language_info": {
      "codemirror_mode": {
        "name": "ipython",
        "version": 3
      },
      "file_extension": ".py",
      "mimetype": "text/x-python",
      "name": "python",
      "nbconvert_exporter": "python",
      "pygments_lexer": "ipython3",
      "version": "3.12.6"
    }
  },
  "nbformat": 4,
  "nbformat_minor": 0
}
