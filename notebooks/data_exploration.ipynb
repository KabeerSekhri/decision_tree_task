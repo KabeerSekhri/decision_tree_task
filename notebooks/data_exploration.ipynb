{
  "cells": [
    {
      "cell_type": "code",
      "execution_count": 111,
      "metadata": {
        "id": "_KTlZ4TFw4sA"
      },
      "outputs": [],
      "source": [
        "import numpy as np\n",
        "import pandas as pd"
      ]
    },
    {
      "cell_type": "code",
      "execution_count": 112,
      "metadata": {
        "id": "alTCKtYhw5-G"
      },
      "outputs": [],
      "source": [
        "dataset = pd.read_csv(\"../data/training_data.csv\")\n",
        "dataset = pd.DataFrame(dataset)"
      ]
    },
    {
      "cell_type": "code",
      "execution_count": 113,
      "metadata": {
        "colab": {
          "base_uri": "https://localhost:8080/",
          "height": 423
        },
        "id": "XEFA14lL21Sb",
        "outputId": "c45a933b-50aa-499b-86a3-741acddceb77"
      },
      "outputs": [
        {
          "data": {
            "text/html": [
              "<div>\n",
              "<style scoped>\n",
              "    .dataframe tbody tr th:only-of-type {\n",
              "        vertical-align: middle;\n",
              "    }\n",
              "\n",
              "    .dataframe tbody tr th {\n",
              "        vertical-align: top;\n",
              "    }\n",
              "\n",
              "    .dataframe thead th {\n",
              "        text-align: right;\n",
              "    }\n",
              "</style>\n",
              "<table border=\"1\" class=\"dataframe\">\n",
              "  <thead>\n",
              "    <tr style=\"text-align: right;\">\n",
              "      <th></th>\n",
              "      <th>step</th>\n",
              "      <th>type</th>\n",
              "      <th>amount</th>\n",
              "      <th>nameOrig</th>\n",
              "      <th>oldbalanceOrg</th>\n",
              "      <th>newbalanceOrig</th>\n",
              "      <th>nameDest</th>\n",
              "      <th>oldbalanceDest</th>\n",
              "      <th>newbalanceDest</th>\n",
              "      <th>isFraud</th>\n",
              "      <th>isFlaggedFraud</th>\n",
              "    </tr>\n",
              "  </thead>\n",
              "  <tbody>\n",
              "    <tr>\n",
              "      <th>0</th>\n",
              "      <td>619</td>\n",
              "      <td>CASH_IN</td>\n",
              "      <td>386385.08</td>\n",
              "      <td>C421351828</td>\n",
              "      <td>4669568.85</td>\n",
              "      <td>5055953.92</td>\n",
              "      <td>C1977099364</td>\n",
              "      <td>506035.06</td>\n",
              "      <td>119649.98</td>\n",
              "      <td>0.0</td>\n",
              "      <td>0.0</td>\n",
              "    </tr>\n",
              "    <tr>\n",
              "      <th>1</th>\n",
              "      <td>164</td>\n",
              "      <td>CASH_IN</td>\n",
              "      <td>212458.78</td>\n",
              "      <td>C83569848</td>\n",
              "      <td>234635.00</td>\n",
              "      <td>447093.78</td>\n",
              "      <td>C1690589535</td>\n",
              "      <td>806037.88</td>\n",
              "      <td>593579.10</td>\n",
              "      <td>0.0</td>\n",
              "      <td>0.0</td>\n",
              "    </tr>\n",
              "    <tr>\n",
              "      <th>2</th>\n",
              "      <td>382</td>\n",
              "      <td>PAYMENT</td>\n",
              "      <td>19967.60</td>\n",
              "      <td>C852995095</td>\n",
              "      <td>3634.00</td>\n",
              "      <td>0.00</td>\n",
              "      <td>M1695416333</td>\n",
              "      <td>0.00</td>\n",
              "      <td>0.00</td>\n",
              "      <td>0.0</td>\n",
              "      <td>0.0</td>\n",
              "    </tr>\n",
              "    <tr>\n",
              "      <th>3</th>\n",
              "      <td>180</td>\n",
              "      <td>CASH_OUT</td>\n",
              "      <td>527616.51</td>\n",
              "      <td>C61761046</td>\n",
              "      <td>180216.00</td>\n",
              "      <td>0.00</td>\n",
              "      <td>C577654587</td>\n",
              "      <td>92157.10</td>\n",
              "      <td>619773.61</td>\n",
              "      <td>0.0</td>\n",
              "      <td>0.0</td>\n",
              "    </tr>\n",
              "    <tr>\n",
              "      <th>4</th>\n",
              "      <td>36</td>\n",
              "      <td>TRANSFER</td>\n",
              "      <td>206067.85</td>\n",
              "      <td>C758004147</td>\n",
              "      <td>0.00</td>\n",
              "      <td>0.00</td>\n",
              "      <td>C2143015292</td>\n",
              "      <td>2131494.48</td>\n",
              "      <td>2337562.32</td>\n",
              "      <td>0.0</td>\n",
              "      <td>0.0</td>\n",
              "    </tr>\n",
              "    <tr>\n",
              "      <th>...</th>\n",
              "      <td>...</td>\n",
              "      <td>...</td>\n",
              "      <td>...</td>\n",
              "      <td>...</td>\n",
              "      <td>...</td>\n",
              "      <td>...</td>\n",
              "      <td>...</td>\n",
              "      <td>...</td>\n",
              "      <td>...</td>\n",
              "      <td>...</td>\n",
              "      <td>...</td>\n",
              "    </tr>\n",
              "    <tr>\n",
              "      <th>143921</th>\n",
              "      <td>236</td>\n",
              "      <td>CASH_IN</td>\n",
              "      <td>184782.46</td>\n",
              "      <td>C2000187312</td>\n",
              "      <td>1512205.59</td>\n",
              "      <td>1696988.05</td>\n",
              "      <td>C1303211682</td>\n",
              "      <td>293982.59</td>\n",
              "      <td>109200.13</td>\n",
              "      <td>0.0</td>\n",
              "      <td>0.0</td>\n",
              "    </tr>\n",
              "    <tr>\n",
              "      <th>143922</th>\n",
              "      <td>347</td>\n",
              "      <td>PAYMENT</td>\n",
              "      <td>31391.33</td>\n",
              "      <td>C1729609363</td>\n",
              "      <td>31152.00</td>\n",
              "      <td>0.00</td>\n",
              "      <td>M602706381</td>\n",
              "      <td>0.00</td>\n",
              "      <td>0.00</td>\n",
              "      <td>0.0</td>\n",
              "      <td>0.0</td>\n",
              "    </tr>\n",
              "    <tr>\n",
              "      <th>143923</th>\n",
              "      <td>311</td>\n",
              "      <td>CASH_IN</td>\n",
              "      <td>255521.98</td>\n",
              "      <td>C1034541925</td>\n",
              "      <td>1237508.67</td>\n",
              "      <td>1493030.65</td>\n",
              "      <td>C1088098741</td>\n",
              "      <td>768396.97</td>\n",
              "      <td>512874.99</td>\n",
              "      <td>0.0</td>\n",
              "      <td>0.0</td>\n",
              "    </tr>\n",
              "    <tr>\n",
              "      <th>143924</th>\n",
              "      <td>11</td>\n",
              "      <td>CASH_OUT</td>\n",
              "      <td>78284.35</td>\n",
              "      <td>C1847843274</td>\n",
              "      <td>31562.00</td>\n",
              "      <td>0.00</td>\n",
              "      <td>C697452681</td>\n",
              "      <td>2324888.80</td>\n",
              "      <td>2420233.51</td>\n",
              "      <td>0.0</td>\n",
              "      <td>0.0</td>\n",
              "    </tr>\n",
              "    <tr>\n",
              "      <th>143925</th>\n",
              "      <td>376</td>\n",
              "      <td>CASH_OUT</td>\n",
              "      <td>91070.60</td>\n",
              "      <td>NaN</td>\n",
              "      <td>NaN</td>\n",
              "      <td>NaN</td>\n",
              "      <td>NaN</td>\n",
              "      <td>NaN</td>\n",
              "      <td>NaN</td>\n",
              "      <td>NaN</td>\n",
              "      <td>NaN</td>\n",
              "    </tr>\n",
              "  </tbody>\n",
              "</table>\n",
              "<p>143926 rows × 11 columns</p>\n",
              "</div>"
            ],
            "text/plain": [
              "        step      type     amount     nameOrig  oldbalanceOrg  newbalanceOrig  \\\n",
              "0        619   CASH_IN  386385.08   C421351828     4669568.85      5055953.92   \n",
              "1        164   CASH_IN  212458.78    C83569848      234635.00       447093.78   \n",
              "2        382   PAYMENT   19967.60   C852995095        3634.00            0.00   \n",
              "3        180  CASH_OUT  527616.51    C61761046      180216.00            0.00   \n",
              "4         36  TRANSFER  206067.85   C758004147           0.00            0.00   \n",
              "...      ...       ...        ...          ...            ...             ...   \n",
              "143921   236   CASH_IN  184782.46  C2000187312     1512205.59      1696988.05   \n",
              "143922   347   PAYMENT   31391.33  C1729609363       31152.00            0.00   \n",
              "143923   311   CASH_IN  255521.98  C1034541925     1237508.67      1493030.65   \n",
              "143924    11  CASH_OUT   78284.35  C1847843274       31562.00            0.00   \n",
              "143925   376  CASH_OUT   91070.60          NaN            NaN             NaN   \n",
              "\n",
              "           nameDest  oldbalanceDest  newbalanceDest  isFraud  isFlaggedFraud  \n",
              "0       C1977099364       506035.06       119649.98      0.0             0.0  \n",
              "1       C1690589535       806037.88       593579.10      0.0             0.0  \n",
              "2       M1695416333            0.00            0.00      0.0             0.0  \n",
              "3        C577654587        92157.10       619773.61      0.0             0.0  \n",
              "4       C2143015292      2131494.48      2337562.32      0.0             0.0  \n",
              "...             ...             ...             ...      ...             ...  \n",
              "143921  C1303211682       293982.59       109200.13      0.0             0.0  \n",
              "143922   M602706381            0.00            0.00      0.0             0.0  \n",
              "143923  C1088098741       768396.97       512874.99      0.0             0.0  \n",
              "143924   C697452681      2324888.80      2420233.51      0.0             0.0  \n",
              "143925          NaN             NaN             NaN      NaN             NaN  \n",
              "\n",
              "[143926 rows x 11 columns]"
            ]
          },
          "execution_count": 113,
          "metadata": {},
          "output_type": "execute_result"
        }
      ],
      "source": [
        "dataset"
      ]
    },
    {
      "cell_type": "code",
      "execution_count": 114,
      "metadata": {
        "id": "qb2S6OUr2_z6"
      },
      "outputs": [
        {
          "name": "stdout",
          "output_type": "stream",
          "text": [
            "step              0\n",
            "type              0\n",
            "amount            0\n",
            "nameOrig          1\n",
            "oldbalanceOrg     1\n",
            "newbalanceOrig    1\n",
            "nameDest          1\n",
            "oldbalanceDest    1\n",
            "newbalanceDest    1\n",
            "isFraud           1\n",
            "isFlaggedFraud    1\n",
            "dtype: int64\n",
            "---\n",
            "0\n"
          ]
        }
      ],
      "source": [
        "dataset.columns = dataset.columns.str.strip()  # Removes leading and trailing spaces\n",
        "print(dataset.isnull().sum()) # Check for missing values\n",
        "print(\"---\")\n",
        "print(dataset.duplicated().sum()) # Check for duplicate values\n"
      ]
    },
    {
      "cell_type": "code",
      "execution_count": 115,
      "metadata": {
        "id": "UqRLKgyH1OdA"
      },
      "outputs": [],
      "source": [
        "dataset.dropna(inplace=True)\n",
        "dataset.drop_duplicates(inplace=True)"
      ]
    },
    {
      "cell_type": "code",
      "execution_count": 116,
      "metadata": {
        "id": "-omWISIT5tuY"
      },
      "outputs": [
        {
          "data": {
            "text/plain": [
              "'\\nimport seaborn as sns\\nimport matplotlib.pyplot as plt\\nimport pandas as pd\\n\\n# Assuming your dataset is already loaded, e.g.:\\n# dataset = pd.read_csv(\"your_file.csv\")\\n\\n# Select independent features and dependent target\\nX = dataset[[\\'amount\\',\\'oldbalanceOrg\\',\\'newbalanceOrig\\',\\'oldbalanceDest\\',\\'newbalanceDest\\']] # Features\\nY = dataset[\\'isFraud\\'] # Target\\n\\n# Create a new DataFrame that includes both X and Y for plotting\\ndata_with_target = X.copy()  # Copy X to avoid modifying it directly\\ndata_with_target[\\'isFraud\\'] = Y  # Add the target \\'isFraud\\' to the DataFrame\\n\\n# Plot pairwise scatter plots for each feature in X against Y\\nfor col in X.columns:\\n    plt.figure(figsize=(6, 4))\\n    sns.scatterplot(x=col, y=\\'isFraud\\', data=data_with_target)\\n    plt.title(f\\'Scatter plot of {col} vs isFraud\\')\\n    plt.show()\\n'"
            ]
          },
          "execution_count": 116,
          "metadata": {},
          "output_type": "execute_result"
        }
      ],
      "source": [
        "'''\n",
        "import seaborn as sns\n",
        "import matplotlib.pyplot as plt\n",
        "import pandas as pd\n",
        "\n",
        "# Assuming your dataset is already loaded, e.g.:\n",
        "# dataset = pd.read_csv(\"your_file.csv\")\n",
        "\n",
        "# Select independent features and dependent target\n",
        "X = dataset[['amount','oldbalanceOrg','newbalanceOrig','oldbalanceDest','newbalanceDest']] # Features\n",
        "Y = dataset['isFraud'] # Target\n",
        "\n",
        "# Create a new DataFrame that includes both X and Y for plotting\n",
        "data_with_target = X.copy()  # Copy X to avoid modifying it directly\n",
        "data_with_target['isFraud'] = Y  # Add the target 'isFraud' to the DataFrame\n",
        "\n",
        "# Plot pairwise scatter plots for each feature in X against Y\n",
        "for col in X.columns:\n",
        "    plt.figure(figsize=(6, 4))\n",
        "    sns.scatterplot(x=col, y='isFraud', data=data_with_target)\n",
        "    plt.title(f'Scatter plot of {col} vs isFraud')\n",
        "    plt.show()\n",
        "'''"
      ]
    },
    {
      "cell_type": "code",
      "execution_count": 164,
      "metadata": {
        "id": "W8gCI5jz4P8k"
      },
      "outputs": [],
      "source": [
        "X = dataset[['amount','oldbalanceOrg','newbalanceOrig','oldbalanceDest','newbalanceDest']] # Features (independent)\n",
        "Y = dataset['isFraud'].values.reshape(-1, 1) # Target (dependent)\n",
        "X = pd.DataFrame(X)\n",
        "Y = pd.DataFrame(Y)"
      ]
    },
    {
      "cell_type": "code",
      "execution_count": 172,
      "metadata": {},
      "outputs": [
        {
          "name": "stdout",
          "output_type": "stream",
          "text": [
            "[0. 1.]\n",
            "{(0.0,): 143733, (1.0,): 192}\n",
            "2\n",
            "True\n"
          ]
        }
      ],
      "source": [
        "target_dict = Y.value_counts().to_dict()\n",
        "n_labels = len(target_dict)\n",
        "print(np.unique(Y))\n",
        "print(target_dict)\n",
        "print(n_labels)\n",
        "print(type(Y)==pd.DataFrame)"
      ]
    },
    {
      "cell_type": "code",
      "execution_count": 136,
      "metadata": {
        "colab": {
          "base_uri": "https://localhost:8080/"
        },
        "id": "zNlpnuNJ40NY",
        "outputId": "a5880715-8da6-4a88-e5f1-1af8412f4b3f"
      },
      "outputs": [
        {
          "name": "stdout",
          "output_type": "stream",
          "text": [
            "(143925, 5)\n",
            "(143925, 1)\n"
          ]
        }
      ],
      "source": [
        "print(X.shape)\n",
        "print(Y.shape)"
      ]
    },
    {
      "cell_type": "code",
      "execution_count": 119,
      "metadata": {},
      "outputs": [
        {
          "data": {
            "text/html": [
              "<div>\n",
              "<style scoped>\n",
              "    .dataframe tbody tr th:only-of-type {\n",
              "        vertical-align: middle;\n",
              "    }\n",
              "\n",
              "    .dataframe tbody tr th {\n",
              "        vertical-align: top;\n",
              "    }\n",
              "\n",
              "    .dataframe thead th {\n",
              "        text-align: right;\n",
              "    }\n",
              "</style>\n",
              "<table border=\"1\" class=\"dataframe\">\n",
              "  <thead>\n",
              "    <tr style=\"text-align: right;\">\n",
              "      <th></th>\n",
              "      <th>amount</th>\n",
              "      <th>oldbalanceOrg</th>\n",
              "      <th>newbalanceOrig</th>\n",
              "      <th>oldbalanceDest</th>\n",
              "      <th>newbalanceDest</th>\n",
              "    </tr>\n",
              "  </thead>\n",
              "  <tbody>\n",
              "    <tr>\n",
              "      <th>1</th>\n",
              "      <td>212458.78</td>\n",
              "      <td>234635.0</td>\n",
              "      <td>447093.78</td>\n",
              "      <td>806037.88</td>\n",
              "      <td>593579.1</td>\n",
              "    </tr>\n",
              "    <tr>\n",
              "      <th>2</th>\n",
              "      <td>19967.60</td>\n",
              "      <td>3634.0</td>\n",
              "      <td>0.00</td>\n",
              "      <td>0.00</td>\n",
              "      <td>0.0</td>\n",
              "    </tr>\n",
              "  </tbody>\n",
              "</table>\n",
              "</div>"
            ],
            "text/plain": [
              "      amount  oldbalanceOrg  newbalanceOrig  oldbalanceDest  newbalanceDest\n",
              "1  212458.78       234635.0       447093.78       806037.88        593579.1\n",
              "2   19967.60         3634.0            0.00            0.00             0.0"
            ]
          },
          "execution_count": 119,
          "metadata": {},
          "output_type": "execute_result"
        }
      ],
      "source": [
        "X.iloc[1:3]\n"
      ]
    },
    {
      "cell_type": "code",
      "execution_count": 120,
      "metadata": {
        "id": "IlbyUY099SLd"
      },
      "outputs": [],
      "source": [
        "def split(rows, qt):\n",
        "    true_row=[]; false_row=[]\n",
        "\n",
        "    for i in rows:\n",
        "        if qt.match(i):\n",
        "            true_row.append(i)\n",
        "        else:\n",
        "            false_row.append(i)\n",
        "    return true_row,false_row\n"
      ]
    },
    {
      "cell_type": "code",
      "execution_count": 121,
      "metadata": {},
      "outputs": [],
      "source": [
        "class qt:\n",
        "    def _init_(self,col,val):\n",
        "        self.col = col\n",
        "        self.val = val\n",
        "    \n",
        "    def match(self, ex):\n",
        "        val = ex[self.col]\n",
        "        if is_numeric(val):\n",
        "            return val>= self.val\n",
        "        else:\n",
        "            return val == self.val\n",
        "    \n",
        "    def __repr__(self):\n",
        "        condition = \"==\"\n",
        "        if is_numeric(self.val):\n",
        "            condition = \">=\"\n",
        "        return \"Is %s %s %s ?\" % (header[self.col], condition, str(self.val))\n"
      ]
    },
    {
      "cell_type": "code",
      "execution_count": 134,
      "metadata": {},
      "outputs": [],
      "source": [
        "# Nodes\n",
        "class node:\n",
        "    def __init__(self, feature=None, threshold=None, left=None, right=None,*,value=None):\n",
        "        self.feature = feature\n",
        "        self.threshold = threshold\n",
        "        self.left = left\n",
        "        self.right = right\n",
        "        self.value = None\n",
        "\n",
        "    def is_leaf(self):\n",
        "        if self.value != None:\n",
        "            return self.value"
      ]
    },
    {
      "cell_type": "code",
      "execution_count": 132,
      "metadata": {},
      "outputs": [],
      "source": [
        "# Decision Tree\n",
        "class decision_tree:\n",
        "    def __init__(self, min_samples=5, max_depth=100, n_features=None):\n",
        "        self.min_samples = min_samples\n",
        "        self.max_depth = max_depth\n",
        "        self.n_features = n_features\n",
        "        self.root = None\n",
        "\n",
        "    def fit(self,x,y):\n",
        "        if not self.n_features: # To ensure no. of features(columns) <= no. of actual features\n",
        "            self.n_features = x.shape[1]\n",
        "        else:\n",
        "            self.n_features = min(x.shape[1],self.n_features)\n",
        "        self.root = self.build_tree(x,y)\n",
        "\n",
        "\n",
        "\n",
        "    depth = 0 # Initialize depth of tree\n",
        "    def build_tree(self,x,y,depth):\n",
        "        # Check if stopping criteria reached\n",
        "        # If not find the best split\n",
        "        # Create child nodes based on split condition\n",
        "\n",
        "        n_samples = x.shape[0] # No. of sample points = no. of rows\n",
        "        n_features = x.shape[1] # No. of features = no. of columns\n",
        "        n_labels = len(np.unique(y)) # No. of unique labels\n",
        "\n",
        "        if depth>=self.max_depth or n_labels==1 or n_samples<self.min_samples: # Stopping criteria\n",
        "            leaf_label = self.majority_label(y) # Label of leaf should be the majority label in the node\n",
        "            return node(value=leaf_label) # Creates a leaf node and exits build_tree function\n",
        "\n",
        "    def majority_label(self,y):\n",
        "        if type(y) != pd.DataFrame:\n",
        "            y = pd.DataFrame(y)\n",
        "        y_dict = y.value_counts().to_dict()\n",
        "\n",
        "        max_key,max_val = \"\",0\n",
        "        for k,v in y_dict.items():\n",
        "            if v>=max_val:\n",
        "                max_key,max_val=k,v\n",
        "        return max_key\n",
        "        \n",
        "\n",
        "\n",
        "        \n"
      ]
    },
    {
      "cell_type": "code",
      "execution_count": 153,
      "metadata": {},
      "outputs": [
        {
          "name": "stdout",
          "output_type": "stream",
          "text": [
            "CASH_OUT --> 50733\n",
            "PAYMENT --> 48683\n",
            "CASH_IN --> 31397\n",
            "TRANSFER --> 12154\n",
            "DEBIT --> 958\n"
          ]
        },
        {
          "data": {
            "text/plain": [
              "5"
            ]
          },
          "execution_count": 153,
          "metadata": {},
          "output_type": "execute_result"
        }
      ],
      "source": [
        "# Making dictionary of each value in column and how many times it occurs\n",
        "dict = dataset['type'].value_counts().to_dict()\n",
        "for k,v in dict.items():\n",
        "    print(k,\"-->\",v)\n",
        "\n",
        "len(dict)"
      ]
    },
    {
      "cell_type": "code",
      "execution_count": 123,
      "metadata": {},
      "outputs": [
        {
          "name": "stdout",
          "output_type": "stream",
          "text": [
            "0.0 --> 143733\n",
            "1.0 --> 192\n"
          ]
        },
        {
          "data": {
            "text/html": [
              "<div>\n",
              "<style scoped>\n",
              "    .dataframe tbody tr th:only-of-type {\n",
              "        vertical-align: middle;\n",
              "    }\n",
              "\n",
              "    .dataframe tbody tr th {\n",
              "        vertical-align: top;\n",
              "    }\n",
              "\n",
              "    .dataframe thead th {\n",
              "        text-align: right;\n",
              "    }\n",
              "</style>\n",
              "<table border=\"1\" class=\"dataframe\">\n",
              "  <thead>\n",
              "    <tr style=\"text-align: right;\">\n",
              "      <th></th>\n",
              "      <th>step</th>\n",
              "      <th>type</th>\n",
              "      <th>amount</th>\n",
              "      <th>nameOrig</th>\n",
              "      <th>oldbalanceOrg</th>\n",
              "      <th>newbalanceOrig</th>\n",
              "      <th>nameDest</th>\n",
              "      <th>oldbalanceDest</th>\n",
              "      <th>newbalanceDest</th>\n",
              "      <th>isFraud</th>\n",
              "      <th>isFlaggedFraud</th>\n",
              "    </tr>\n",
              "  </thead>\n",
              "  <tbody>\n",
              "    <tr>\n",
              "      <th>550</th>\n",
              "      <td>61</td>\n",
              "      <td>TRANSFER</td>\n",
              "      <td>1735466.52</td>\n",
              "      <td>C182416415</td>\n",
              "      <td>1735466.52</td>\n",
              "      <td>0.00</td>\n",
              "      <td>C180492809</td>\n",
              "      <td>0.00</td>\n",
              "      <td>0.00</td>\n",
              "      <td>1.0</td>\n",
              "      <td>0.0</td>\n",
              "    </tr>\n",
              "    <tr>\n",
              "      <th>636</th>\n",
              "      <td>558</td>\n",
              "      <td>TRANSFER</td>\n",
              "      <td>316877.85</td>\n",
              "      <td>C350145239</td>\n",
              "      <td>316877.85</td>\n",
              "      <td>0.00</td>\n",
              "      <td>C1384673123</td>\n",
              "      <td>0.00</td>\n",
              "      <td>0.00</td>\n",
              "      <td>1.0</td>\n",
              "      <td>0.0</td>\n",
              "    </tr>\n",
              "    <tr>\n",
              "      <th>864</th>\n",
              "      <td>142</td>\n",
              "      <td>CASH_OUT</td>\n",
              "      <td>78810.30</td>\n",
              "      <td>C688380113</td>\n",
              "      <td>78810.30</td>\n",
              "      <td>0.00</td>\n",
              "      <td>C1780087922</td>\n",
              "      <td>802788.52</td>\n",
              "      <td>881598.82</td>\n",
              "      <td>1.0</td>\n",
              "      <td>0.0</td>\n",
              "    </tr>\n",
              "    <tr>\n",
              "      <th>870</th>\n",
              "      <td>275</td>\n",
              "      <td>CASH_OUT</td>\n",
              "      <td>513082.74</td>\n",
              "      <td>C1294288160</td>\n",
              "      <td>513082.74</td>\n",
              "      <td>0.00</td>\n",
              "      <td>C1140210219</td>\n",
              "      <td>32452.79</td>\n",
              "      <td>545535.53</td>\n",
              "      <td>1.0</td>\n",
              "      <td>0.0</td>\n",
              "    </tr>\n",
              "    <tr>\n",
              "      <th>1472</th>\n",
              "      <td>617</td>\n",
              "      <td>TRANSFER</td>\n",
              "      <td>2542664.27</td>\n",
              "      <td>C786455622</td>\n",
              "      <td>2542664.27</td>\n",
              "      <td>2542664.27</td>\n",
              "      <td>C661958277</td>\n",
              "      <td>0.00</td>\n",
              "      <td>0.00</td>\n",
              "      <td>1.0</td>\n",
              "      <td>1.0</td>\n",
              "    </tr>\n",
              "  </tbody>\n",
              "</table>\n",
              "</div>"
            ],
            "text/plain": [
              "      step      type      amount     nameOrig  oldbalanceOrg  newbalanceOrig  \\\n",
              "550     61  TRANSFER  1735466.52   C182416415     1735466.52            0.00   \n",
              "636    558  TRANSFER   316877.85   C350145239      316877.85            0.00   \n",
              "864    142  CASH_OUT    78810.30   C688380113       78810.30            0.00   \n",
              "870    275  CASH_OUT   513082.74  C1294288160      513082.74            0.00   \n",
              "1472   617  TRANSFER  2542664.27   C786455622     2542664.27      2542664.27   \n",
              "\n",
              "         nameDest  oldbalanceDest  newbalanceDest  isFraud  isFlaggedFraud  \n",
              "550    C180492809            0.00            0.00      1.0             0.0  \n",
              "636   C1384673123            0.00            0.00      1.0             0.0  \n",
              "864   C1780087922       802788.52       881598.82      1.0             0.0  \n",
              "870   C1140210219        32452.79       545535.53      1.0             0.0  \n",
              "1472   C661958277            0.00            0.00      1.0             1.0  "
            ]
          },
          "execution_count": 123,
          "metadata": {},
          "output_type": "execute_result"
        }
      ],
      "source": [
        "# Subsetting dataset\n",
        "dict = dataset['isFraud'].value_counts().to_dict()\n",
        "for k,v in dict.items():\n",
        "    print(k,\"-->\",v)\n",
        "\n",
        "subset= dataset[dataset['isFraud']==1.0]\n",
        "subset.head()"
      ]
    },
    {
      "cell_type": "code",
      "execution_count": 124,
      "metadata": {},
      "outputs": [
        {
          "data": {
            "text/plain": [
              "\"\\ndef entropy(col,dataset):\\n    subset_fraud = dataset[dataset['isFraud']==1.0] # Taking only the rows with isFraud=1\\n    col_len = len(subset_fraud) # Length of the column\\n    dict_fraud = subset_fraud[col].value_counts().to_dict() # Making dict of each unique val and no. of occurences in subset \\n\\n    ent=0 # Initialize entropy\\n\\n    for k,v in dict_fraud.items():\\n        p = v/col_len # Probability of occurence of value in entire column\\n        ent -= p* np.log2(p)\\n\\n    subset_nfraud = dataset[dataset['isFraud']==0.0] # Taking only the rows with isFraud=0\\n    col_len = len(subset_nfraud) # Length of the column\\n    dict_nfraud = subset_fraud[col].value_counts().to_dict() # Making dict of each unique val and no. of occurences in subset \\n\\n    for k,v in dict_nfraud.items():\\n        p = v/col_len # Probability of occurence of value in entire column\\n        ent -= p* np.log2(p)\\n\\n\\n    return ent\\n    \\nentropy('isFraud',dataset)\\n\""
            ]
          },
          "execution_count": 124,
          "metadata": {},
          "output_type": "execute_result"
        }
      ],
      "source": [
        "'''\n",
        "def entropy(col,dataset):\n",
        "    subset_fraud = dataset[dataset['isFraud']==1.0] # Taking only the rows with isFraud=1\n",
        "    col_len = len(subset_fraud) # Length of the column\n",
        "    dict_fraud = subset_fraud[col].value_counts().to_dict() # Making dict of each unique val and no. of occurences in subset \n",
        "\n",
        "    ent=0 # Initialize entropy\n",
        "\n",
        "    for k,v in dict_fraud.items():\n",
        "        p = v/col_len # Probability of occurence of value in entire column\n",
        "        ent -= p* np.log2(p)\n",
        "\n",
        "    subset_nfraud = dataset[dataset['isFraud']==0.0] # Taking only the rows with isFraud=0\n",
        "    col_len = len(subset_nfraud) # Length of the column\n",
        "    dict_nfraud = subset_fraud[col].value_counts().to_dict() # Making dict of each unique val and no. of occurences in subset \n",
        "\n",
        "    for k,v in dict_nfraud.items():\n",
        "        p = v/col_len # Probability of occurence of value in entire column\n",
        "        ent -= p* np.log2(p)\n",
        "\n",
        "\n",
        "    return ent\n",
        "    \n",
        "entropy('isFraud',dataset)\n",
        "'''"
      ]
    },
    {
      "cell_type": "code",
      "execution_count": 125,
      "metadata": {},
      "outputs": [
        {
          "data": {
            "text/plain": [
              "\"Entropy Calculation for a column\\n\\ndef entropy_column(col,target):\\n    att_dict = dataset[col].value_counts().to_dict() # Make dictionary of unique attribute and no. of occurences\\n    ent = 0\\n    for k,v in att_dict.items(): # For each unique value\\n        subset = dataset[dataset[col]==k] # Make subset based on unique attribute k\\n        length = v # Length of subset = no. of occureneces\\n\\n        target_dict = subset[target].value_counts().to_dict()\\n        for i,j in target_dict.items():\\n            p = j/length # Occurences of 1s/0s divided by len of column\\n            ent -= p * np.log2(p)\\n\\n    return ent\\n\\nentropy_column('isFraud','isFraud')       \\n\\n\""
            ]
          },
          "execution_count": 125,
          "metadata": {},
          "output_type": "execute_result"
        }
      ],
      "source": [
        "'''Entropy Calculation for a column\n",
        "\n",
        "def entropy_column(col,target):\n",
        "    att_dict = dataset[col].value_counts().to_dict() # Make dictionary of unique attribute and no. of occurences\n",
        "    ent = 0\n",
        "    for k,v in att_dict.items(): # For each unique value\n",
        "        subset = dataset[dataset[col]==k] # Make subset based on unique attribute k\n",
        "        length = v # Length of subset = no. of occureneces\n",
        "\n",
        "        target_dict = subset[target].value_counts().to_dict()\n",
        "        for i,j in target_dict.items():\n",
        "            p = j/length # Occurences of 1s/0s divided by len of column\n",
        "            ent -= p * np.log2(p)\n",
        "\n",
        "    return ent\n",
        "\n",
        "entropy_column('isFraud','isFraud')       \n",
        "\n",
        "'''"
      ]
    },
    {
      "cell_type": "code",
      "execution_count": 126,
      "metadata": {},
      "outputs": [
        {
          "data": {
            "text/plain": [
              "np.float64(0.0)"
            ]
          },
          "execution_count": 126,
          "metadata": {},
          "output_type": "execute_result"
        }
      ],
      "source": [
        "# Entropy calculation for an attribute in a column\n",
        "def entropy_attribute(col,val,target):\n",
        "    subset = dataset[dataset[col]==val] # Make subset based on attribute \n",
        "    \n",
        "    ent = 0 # Initialize entropy value\n",
        "\n",
        "    target_dict = subset[target].value_counts().to_dict()\n",
        "    for k,v in target_dict.items():\n",
        "        p = v/len(subset) # Occurences of 1s/0s divided by len of column\n",
        "        ent -= p * np.log2(p) # Entropy of attribute\n",
        "\n",
        "    return ent\n",
        "\n",
        "entropy_attribute('isFraud',1.0,'isFraud')"
      ]
    },
    {
      "cell_type": "code",
      "execution_count": 127,
      "metadata": {},
      "outputs": [
        {
          "data": {
            "text/plain": [
              "np.float64(0.014663273789461197)"
            ]
          },
          "execution_count": 127,
          "metadata": {},
          "output_type": "execute_result"
        }
      ],
      "source": [
        "# Entropy of entire dataset \n",
        "def entropy_dataset(target):\n",
        "    target_dict = dataset[target].value_counts().to_dict()\n",
        "    ent = 0\n",
        "    for k,v in target_dict.items():\n",
        "        p = v/len(dataset)\n",
        "        ent -= p * np.log2(p)\n",
        "    \n",
        "    return ent\n",
        "\n",
        "entropy_dataset('isFraud')"
      ]
    },
    {
      "cell_type": "code",
      "execution_count": 131,
      "metadata": {},
      "outputs": [
        {
          "data": {
            "text/plain": [
              "np.float64(0.0020657492205213446)"
            ]
          },
          "execution_count": 131,
          "metadata": {},
          "output_type": "execute_result"
        }
      ],
      "source": [
        "# Information Gain Calculation\n",
        "def information_gain(col,target):\n",
        "    len_data = len(dataset) # Length of dataset\n",
        "    att_dict = dataset[col].value_counts().to_dict() # Make dictionary of unique attribute and no. of occurences\n",
        "\n",
        "    ent_data = entropy_dataset(target) # Calculate entropy of dataset\n",
        "    ent_att = 0 # Initalize entropy of attributes of a column\n",
        "\n",
        "    for k,v in att_dict.items():\n",
        "        p = v / len_data # No. of occurences of attributes / length of dataset\n",
        "        ent_att -= p * entropy_attribute(col,k,target) # Sum of entropy of all attributes in a column\n",
        "    \n",
        "    info_gain = ent_data + ent_att # Calculate information gain\n",
        "\n",
        "    return info_gain\n",
        "\n",
        "information_gain('type','isFraud')\n",
        "        "
      ]
    },
    {
      "cell_type": "code",
      "execution_count": null,
      "metadata": {},
      "outputs": [],
      "source": [
        "# Gini Index Calculation\n"
      ]
    }
  ],
  "metadata": {
    "colab": {
      "provenance": []
    },
    "kernelspec": {
      "display_name": "Python 3",
      "name": "python3"
    },
    "language_info": {
      "codemirror_mode": {
        "name": "ipython",
        "version": 3
      },
      "file_extension": ".py",
      "mimetype": "text/x-python",
      "name": "python",
      "nbconvert_exporter": "python",
      "pygments_lexer": "ipython3",
      "version": "3.12.6"
    }
  },
  "nbformat": 4,
  "nbformat_minor": 0
}
